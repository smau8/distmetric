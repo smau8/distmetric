{
 "cells": [
  {
   "cell_type": "markdown",
   "id": "olympic-perry",
   "metadata": {},
   "source": [
    "## Basic functions of `distmetric`: Working example demo\n",
    "Goal: Demonstrate all the functions in distmetric and resulting outputs."
   ]
  },
  {
   "cell_type": "code",
   "execution_count": null,
   "id": "straight-trial",
   "metadata": {},
   "outputs": [],
   "source": [
    "import distmetric\n",
    "import toytree\n",
    "import numpy as np\n",
    "import pandas as pd"
   ]
  },
  {
   "cell_type": "markdown",
   "id": "rational-destination",
   "metadata": {},
   "source": [
    "### 1) INPUT: Generating/Parsing trees\n",
    "- Uses Newick (string type data) formatted trees (toytree)\n",
    "- Using Generator class object"
   ]
  },
  {
   "cell_type": "code",
   "execution_count": null,
   "id": "strange-leave",
   "metadata": {},
   "outputs": [],
   "source": [
    "# generate 10 random trees as input with Generator class object, defaults to 10 tip trees\n",
    "TREES = distmetric.Generator(10)\n",
    "randomtrees = TREES.get_randomtrees()"
   ]
  },
  {
   "cell_type": "code",
   "execution_count": null,
   "id": "threaded-assumption",
   "metadata": {},
   "outputs": [],
   "source": [
    "# examining what the trees look like:\n",
    "toytree.mtree(randomtrees).draw(ts = 'c', nrows=2, ncols=5);"
   ]
  },
  {
   "cell_type": "code",
   "execution_count": null,
   "id": "understood-funeral",
   "metadata": {},
   "outputs": [],
   "source": [
    "randomtrees[1].write()"
   ]
  },
  {
   "cell_type": "markdown",
   "id": "senior-wound",
   "metadata": {},
   "source": [
    "### 2) ANALYSIS: Calculate distances between trees in given user input\n",
    "- 3 options (pairwise, random, relative to consensus tree)\n",
    "    - Pairwise: compare tree 1 vs. 2, tree 2 vs. 3...etc.\n",
    "    - Random: compare tree 1 vs. 8, tree 5 vs. 3...etc.\n",
    "    - Consensus: compare every tree with consensus tree\n",
    "- 2 methods (Robinson-Foulds, Quartets)\n",
    "- Data output: pandas dataframe with two columns (trees that were compared, calculated distance metric)"
   ]
  },
  {
   "cell_type": "code",
   "execution_count": null,
   "id": "pointed-offense",
   "metadata": {},
   "outputs": [],
   "source": [
    "# Quartets method + consensus example\n",
    "quart = distmetric.Quartets(randomtrees, \"consensus\")\n",
    "quart.run()\n",
    "quart.output"
   ]
  },
  {
   "cell_type": "code",
   "execution_count": null,
   "id": "executive-saudi",
   "metadata": {},
   "outputs": [],
   "source": [
    "# RF method + pairwise example\n",
    "rfs = distmetric.RF(randomtrees, \"pairwise\")\n",
    "rfs.run()\n",
    "rfs.output"
   ]
  },
  {
   "cell_type": "code",
   "execution_count": null,
   "id": "therapeutic-thinking",
   "metadata": {},
   "outputs": [],
   "source": [
    "# RF method + random example\n",
    "rfs = distmetric.RF(randomtrees, \"random\")\n",
    "rfs.run()\n",
    "rfs.output"
   ]
  },
  {
   "cell_type": "markdown",
   "id": "hungry-university",
   "metadata": {},
   "source": [
    "### 3) INTREPETING DATA: Summary statistics and histogram\n",
    "- Summary statistics: mean, std, min, max\n",
    "- Use numpy operations\n",
    "- Histogram function is built into package to allow user to quickly see the distribution of resulting metrics, use toyplot for other types of plots"
   ]
  },
  {
   "cell_type": "code",
   "execution_count": null,
   "id": "extended-above",
   "metadata": {},
   "outputs": [],
   "source": [
    "# summarize data\n",
    "df = rfs.output\n",
    "stats = distmetric.SumStat(df, \"RF\")\n",
    "stats.get_sumstat()"
   ]
  },
  {
   "cell_type": "code",
   "execution_count": null,
   "id": "injured-statement",
   "metadata": {},
   "outputs": [],
   "source": [
    "stats.histogram();"
   ]
  }
 ],
 "metadata": {
  "kernelspec": {
   "display_name": "Python 3",
   "language": "python",
   "name": "python3"
  },
  "language_info": {
   "codemirror_mode": {
    "name": "ipython",
    "version": 3
   },
   "file_extension": ".py",
   "mimetype": "text/x-python",
   "name": "python",
   "nbconvert_exporter": "python",
   "pygments_lexer": "ipython3",
   "version": "3.8.5"
  }
 },
 "nbformat": 4,
 "nbformat_minor": 5
}
